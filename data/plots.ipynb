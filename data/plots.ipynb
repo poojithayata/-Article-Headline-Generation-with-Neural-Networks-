{
 "cells": [
  {
   "cell_type": "code",
   "execution_count": 1,
   "metadata": {},
   "outputs": [
    {
     "name": "stderr",
     "output_type": "stream",
     "text": [
      "C:\\Users\\Naini\\Anaconda3\\lib\\site-packages\\gensim\\utils.py:1197: UserWarning: detected Windows; aliasing chunkize to chunkize_serial\n",
      "  warnings.warn(\"detected Windows; aliasing chunkize to chunkize_serial\")\n"
     ]
    }
   ],
   "source": [
    "import csv\n",
    "import os\n",
    "from collections import defaultdict\n",
    "import pandas as pd\n",
    "from nltk.corpus import stopwords\n",
    "from textblob import TextBlob, Word\n",
    "from gensim.scripts.glove2word2vec import glove2word2vec\n",
    "from nltk.stem import PorterStemmer\n",
    "from sklearn.feature_extraction.text import TfidfVectorizer\n",
    "from sklearn.feature_extraction.text import CountVectorizer\n",
    "from gensim.models import KeyedVectors # load the Stanford GloVe model\n",
    "import ftfy\n",
    "import string\n",
    "from nltk.tokenize import word_tokenize\n",
    "import pickle"
   ]
  },
  {
   "cell_type": "code",
   "execution_count": 12,
   "metadata": {
    "collapsed": true
   },
   "outputs": [],
   "source": [
    "df2 = pd.read_pickle('tokenized_data.pickle')"
   ]
  },
  {
   "cell_type": "code",
   "execution_count": 13,
   "metadata": {},
   "outputs": [
    {
     "data": {
      "text/plain": [
       "0         House Republicans Fret About Winning Their Hea...\n",
       "1         Rift Between Officers and Residents as Killing...\n",
       "2         Tyrus Wong Bambi Artist Thwarted by Racial Bia...\n",
       "3         Among Deaths in 2016 a Heavy Toll in Pop Music...\n",
       "4         Kim Jongun Says North Korea Is Preparing to Te...\n",
       "5         Sick With a Cold Queen Elizabeth Misses New Ye...\n",
       "6         Taiwans President Accuses China of Renewed Int...\n",
       "7         After The Biggest Loser Their Bodies Fought to...\n",
       "8         First a Mixtape Then a Romance The New York Times\n",
       "9         Calling on Angels While Enduring the Trials of...\n",
       "10        Weak Federal Powers Could Limit Trumps Climate...\n",
       "11        Can Carbon Capture Technology Prosper Under Tr...\n",
       "12        MaraLago the Future Winter White House and Hom...\n",
       "13        How to form healthy habits in your 20s The New...\n",
       "14        Turning Your Vacation Photos Into Works of Art...\n",
       "15        As Second Avenue Subway Opens a Train Delay En...\n",
       "16        Dylann Roof Himself Rejects Best Defense Again...\n",
       "17        Modis Cash Ban Brings Pain but CorruptionWeary...\n",
       "18        Suicide Bombing in Baghdad Kills at Least 36 T...\n",
       "19        Fecal Pollution Taints Water at Melbournes Bea...\n",
       "20        NFL Playoffs Schedule Matchups and Odds The Ne...\n",
       "21        Mariah Careys Manager Blames Producers for New...\n",
       "22        Damaged by War Syrias Cultural Sites Rise Anew...\n",
       "23        George Michaels Freedom Video An Oral History ...\n",
       "24        With New Congress Poised to Convene Obamas Pol...\n",
       "25        Republicans Stonewalled Obama Now the Ball Is ...\n",
       "26        Istanbul Donald Trump Benjamin Netanyahu Your ...\n",
       "27        Inside Trump Defense Secretary Picks Efforts t...\n",
       "28        ISIS Claims Responsibility for Istanbul Nightc...\n",
       "29        The Afghan War and the Evolution of Obama The ...\n",
       "                                ...                        \n",
       "142538    Which senators will stand up to Trump and whic...\n",
       "142539    Ceasefire to begin across Syria starting at mi...\n",
       "142540    Democrats new leader suggests John Kerry just ...\n",
       "142541    An obscure EU regulation may have saved lives ...\n",
       "142542    Rare coasttocoast cold snap to engulf Lower 48...\n",
       "142543    The world today looks ominously like it did be...\n",
       "142544    The Asian American advantage that is actually ...\n",
       "142545    A CIA calendar the CIA gift shop refuses to se...\n",
       "142546    A woman ordered canaries to brighten her home ...\n",
       "142547    Putin says he wont deport US diplomats as he l...\n",
       "142548    Trump praises Putins response to sanctions cal...\n",
       "142549    Russia slams Obama administration and CNN for ...\n",
       "142550    NCs outgoing GOP governor appears to make one ...\n",
       "142551    How Indianas school voucher program soared and...\n",
       "142552    She was on course for stardom Then she entrust...\n",
       "142553                     2016 One year in the Upside Down\n",
       "142554    On Russia Trump is incapable of looking past p...\n",
       "142555    Kerry manages to alienate our closest friends ...\n",
       "142556    Hamilton helped elect his rival to keep an unr...\n",
       "142557              2017 is not looking so good for Germany\n",
       "142558                      What US Muslims fear from Trump\n",
       "142559           Trump refuses to face reality about Russia\n",
       "142560    British leader Theresa May breaks with John Ke...\n",
       "142561    Chinas vow to shut down its ivory trade by the...\n",
       "142562    A Mormon Tabernacle Choir member is resigning ...\n",
       "142563    An eavesdropping Uber driver saved his 16yearo...\n",
       "142564    Plane carrying six people returning from a Cav...\n",
       "142565    After helping a fraction of homeowners expecte...\n",
       "142566    Yes this is real Michigan just banned banning ...\n",
       "142567    What happened in Washington state after voters...\n",
       "Name: heads, Length: 142568, dtype: object"
      ]
     },
     "execution_count": 13,
     "metadata": {},
     "output_type": "execute_result"
    }
   ],
   "source": [
    "heads = df2['heads']\n",
    "heads"
   ]
  },
  {
   "cell_type": "code",
   "execution_count": 14,
   "metadata": {},
   "outputs": [
    {
     "data": {
      "text/plain": [
       "0         WASHINGTON — Congressional Republicans have a ...\n",
       "1         After the bullet shells get counted the blood ...\n",
       "2         When Walt Disneys Bambi opened in 1942 critics...\n",
       "3         Death may be the great equalizer but it isnt n...\n",
       "4         SEOUL South Korea — North Koreas leader Kim sa...\n",
       "5         LONDON — Queen Elizabeth II who has been battl...\n",
       "6         BEIJING — President Tsai of Taiwan sharply cri...\n",
       "7         Danny Cahill stood slightly dazed in a blizzar...\n",
       "8         Just how is Hillary Kerr the founder of a digi...\n",
       "9         Angels are everywhere in the Muñiz familys apa...\n",
       "10        With Donald J Trump about to take control of t...\n",
       "11        THOMPSONS Tex — Can one of the most promising ...\n",
       "12        WEST PALM BEACH Fla — When Donald J Trump rang...\n",
       "13        This article is part of a series aimed at help...\n",
       "14        Its the season for family travel and photos — ...\n",
       "15        Finally The Second Avenue subway opened in New...\n",
       "16        pages into the journal found in Dylann S Roofs...\n",
       "17        MUMBAI India — It was a bold and risky gamble ...\n",
       "18        BAGHDAD — A suicide bomber detonated a pickup ...\n",
       "19        SYDNEY Australia — The annual beach pilgrimage...\n",
       "20        When the Green Bay Packers lost to the Washing...\n",
       "21        Mariah Carey suffered through a performance tr...\n",
       "22        PARIS — When the Islamic State was about to be...\n",
       "23        Pop music and fashion never met cuter than in ...\n",
       "24        WASHINGTON — The most powerful and ambitious C...\n",
       "25        WASHINGTON — Its or time for Republicans After...\n",
       "26        Good morning Heres what you need to know • The...\n",
       "27        The body of the Iraqi prisoner was found naked...\n",
       "28        ISTANBUL — The Islamic State on Monday issued ...\n",
       "29        WASHINGTON — President Obamas advisers wrestle...\n",
       "                                ...                        \n",
       "142538    Our greatest fear for 2017 and the Trump presi...\n",
       "142539    A will take effect across much of Syria from m...\n",
       "142540    There is an old saying in politics The most da...\n",
       "142541    The truck attack on a Christmas market in Berl...\n",
       "142542    Frigid air will grip an unusually large portio...\n",
       "142543    A backlash to globalization appears to be gain...\n",
       "142544    For decades the data on median household incom...\n",
       "142545    Far Side cartoons Ansel Adams landscapes under...\n",
       "142546    Somewhere between Texas and Alabama something ...\n",
       "142547    MOSCOW — On a day when everyone expected him t...\n",
       "142548    Donald Trump on Friday expressed his appreciat...\n",
       "142549    Maria Zakharova a spokeswoman for the Russian ...\n",
       "142550    With just one day to go before he leaves offic...\n",
       "142551    Indiana lawmakers originally promoted the stat...\n",
       "142552    PHOENIX Ariz — This was supposed to be the yea...\n",
       "142553    The year started ominously with a big fire in ...\n",
       "142554    Donald Trump having dismissed as ridiculous an...\n",
       "142555    President Obamas decision to abstain at the U ...\n",
       "142556    CHARLOTTESVILLE I came here during the holiday...\n",
       "142557    Torn between impatience for 2016 to be over al...\n",
       "142558    Naureen Shah is director of security and human...\n",
       "142559    ALTHOUGH PRESIDENT Obamas sanctions against Ru...\n",
       "142560    BRUSSELS — British Prime Minister Theresa May ...\n",
       "142561    BEIJING — China promised Friday to halt its do...\n",
       "142562    The decision was not an easy one wrote Jan Cha...\n",
       "142563    Uber driver Keith Avila picked up a passenger ...\n",
       "142564    Crews on Friday continued to search Lake Erie ...\n",
       "142565    When the Obama administration announced a mass...\n",
       "142566    This story has been updated A new law in Michi...\n",
       "142567    The nations first recreational marijuana shop ...\n",
       "Name: descs, Length: 142568, dtype: object"
      ]
     },
     "execution_count": 14,
     "metadata": {},
     "output_type": "execute_result"
    }
   ],
   "source": [
    "descs = df2['descs']\n",
    "descs"
   ]
  },
  {
   "cell_type": "code",
   "execution_count": 15,
   "metadata": {},
   "outputs": [
    {
     "data": {
      "text/plain": [
       "'House Republicans Fret About Winning Their Health Care Suit The New York Times'"
      ]
     },
     "execution_count": 15,
     "metadata": {},
     "output_type": "execute_result"
    }
   ],
   "source": [
    "i=0\n",
    "heads[i]"
   ]
  },
  {
   "cell_type": "code",
   "execution_count": 17,
   "metadata": {},
   "outputs": [
    {
     "data": {
      "text/plain": [
       "'WASHINGTON — Congressional Republicans have a new fear when it comes to their health care lawsuit against the Obama administration They might win The incoming Trump administration could choose to no longer defend the executive branch against the suit which challenges the administrations authority to spend billions of dollars on health insurance subsidies for and Americans handing House Republicans a big victory on issues But a sudden loss of the disputed subsidies could conceivably cause the health care program to implode leaving millions of people without access to health insurance before Republicans have prepared a replacement That could lead to chaos in the insurance market and spur a political backlash just as Republicans gain full control of the government To stave off that outcome Republicans could find themselves in the awkward position of appropriating huge sums to temporarily prop up the Obama health care law angering conservative voters who have been demanding an end to the law for years In another twist Donald J Trumps administration worried about preserving executive branch prerogatives could choose to fight its Republican allies in the House on some central questions in the dispute Eager to avoid an ugly political pileup Republicans on Capitol Hill and the Trump transition team are gaming out how to handle the lawsuit which after the election has been put in limbo until at least late February by the United States Court of Appeals for the District of Columbia Circuit They are not yet ready to divulge their strategy Given that this pending litigation involves the Obama administration and Congress it would be inappropriate to comment said Phillip J Blando a spokesman for the Trump transition effort Upon taking office the Trump administration will evaluate this case and all related aspects of the Affordable Care Act In a potentially decision in 2015 Judge Rosemary M Collyer ruled that House Republicans had the standing to sue the executive branch over a spending dispute and that the Obama administration had been distributing the health insurance subsidies in violation of the Constitution without approval from Congress The Justice Department confident that Judge Collyers decision would be reversed quickly appealed and the subsidies have remained in place during the appeal In successfully seeking a temporary halt in the proceedings after Mr Trump won House Republicans last month told the court that they and the s transition team currently are discussing potential options for resolution of this matter to take effect after the s inauguration on Jan 20 2017 The suspension of the case House lawyers said will provide the and his future administration time to consider whether to continue prosecuting or to otherwise resolve this appeal Republican leadership officials in the House acknowledge the possibility of cascading effects if the payments which have totaled an estimated 13 billion are suddenly stopped Insurers that receive the subsidies in exchange for paying costs such as deductibles and for eligible consumers could race to drop coverage since they would be losing money Over all the loss of the subsidies could destabilize the entire program and cause a lack of confidence that leads other insurers to seek a quick exit as well Anticipating that the Trump administration might not be inclined to mount a vigorous fight against the House Republicans given the s dim view of the health care law a team of lawyers this month sought to intervene in the case on behalf of two participants in the health care program In their request the lawyers predicted that a deal between House Republicans and the new administration to dismiss or settle the case will produce devastating consequences for the individuals who receive these reductions as well as for the nations health insurance and health care systems generally No matter what happens House Republicans say they want to prevail on two overarching concepts the congressional power of the purse and the right of Congress to sue the executive branch if it violates the Constitution regarding that spending power House Republicans contend that Congress never appropriated the money for the subsidies as required by the Constitution In the suit which was initially championed by John A Boehner the House speaker at the time and later in House committee reports Republicans asserted that the administration desperate for the funding had required the Treasury Department to provide it despite widespread internal skepticism that the spending was proper The White House said that the spending was a permanent part of the law passed in 2010 and that no annual appropriation was required — even though the administration initially sought one Just as important to House Republicans Judge Collyer found that Congress had the standing to sue the White House on this issue — a ruling that many legal experts said was flawed — and they want that precedent to be set to restore congressional leverage over the executive branch But on spending power and standing the Trump administration may come under pressure from advocates of presidential authority to fight the House no matter their shared views on health care since those precedents could have broad repercussions It is a complicated set of dynamics illustrating how a quick legal victory for the House in the Trump era might come with costs that Republicans never anticipated when they took on the Obama White House'"
      ]
     },
     "execution_count": 17,
     "metadata": {},
     "output_type": "execute_result"
    }
   ],
   "source": [
    "descs[i]\n"
   ]
  },
  {
   "cell_type": "code",
   "execution_count": 18,
   "metadata": {},
   "outputs": [
    {
     "data": {
      "text/plain": [
       "(142568, 142084)"
      ]
     },
     "execution_count": 18,
     "metadata": {},
     "output_type": "execute_result"
    }
   ],
   "source": [
    "len(heads),len(set(heads))"
   ]
  },
  {
   "cell_type": "code",
   "execution_count": 21,
   "metadata": {},
   "outputs": [
    {
     "data": {
      "text/plain": [
       "(142568, 141972)"
      ]
     },
     "execution_count": 21,
     "metadata": {},
     "output_type": "execute_result"
    }
   ],
   "source": [
    "len(descs),len(set(descs))\n"
   ]
  },
  {
   "cell_type": "code",
   "execution_count": 22,
   "metadata": {
    "collapsed": true
   },
   "outputs": [],
   "source": [
    "from collections import Counter\n",
    "from itertools import chain\n",
    "def get_vocab(lst):\n",
    "    vocabcount = Counter(w for txt in lst for w in txt.split())\n",
    "    vocab = map(lambda x: x[0], sorted(vocabcount.items(), key=lambda x: -x[1]))\n",
    "    return vocab, vocabcount"
   ]
  },
  {
   "cell_type": "code",
   "execution_count": 23,
   "metadata": {
    "collapsed": true
   },
   "outputs": [],
   "source": [
    "vocab, vocabcount = get_vocab(heads+descs)"
   ]
  },
  {
   "cell_type": "markdown",
   "metadata": {},
   "source": [
    "### Most popular tokens "
   ]
  },
  {
   "cell_type": "code",
   "execution_count": 27,
   "metadata": {},
   "outputs": [
    {
     "data": {
      "image/png": "[encoded data removed]",
      "text/plain": [
       "<matplotlib.figure.Figure at 0x22e5d3d7438>"
      ]
     },
     "metadata": {},
     "output_type": "display_data"
    }
   ],
   "source": [
    "import matplotlib.pyplot as plt\n",
    "%matplotlib inline\n",
    "plt.plot([vocabcount[w] for w in vocab]);\n",
    "plt.gca().set_xscale(\"log\", nonposx='clip')\n",
    "plt.gca().set_yscale(\"log\", nonposy='clip')\n",
    "plt.title('word distribution in headlines and discription')\n",
    "plt.xlabel('rank')\n",
    "plt.ylabel('total appearances');"
   ]
  },
  {
   "cell_type": "code",
   "execution_count": null,
   "metadata": {
    "collapsed": true
   },
   "outputs": [],
   "source": []
  }
 ],
 "metadata": {
  "kernelspec": {
   "display_name": "Python 3",
   "language": "python",
   "name": "python3"
  },
  "language_info": {
   "codemirror_mode": {
    "name": "ipython",
    "version": 3
   },
   "file_extension": ".py",
   "mimetype": "text/x-python",
   "name": "python",
   "nbconvert_exporter": "python",
   "pygments_lexer": "ipython3",
   "version": "3.6.3"
  }
 },
 "nbformat": 4,
 "nbformat_minor": 2
}

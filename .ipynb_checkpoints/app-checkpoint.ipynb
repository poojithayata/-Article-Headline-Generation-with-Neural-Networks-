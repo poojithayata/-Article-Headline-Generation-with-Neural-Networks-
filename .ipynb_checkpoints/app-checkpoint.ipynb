{
 "cells": [
  {
   "cell_type": "code",
   "execution_count": 4,
   "metadata": {},
   "outputs": [
    {
     "name": "stderr",
     "output_type": "stream",
     "text": [
      " * Running on http://127.0.0.1:5000/ (Press CTRL+C to quit)\n",
      "127.0.0.1 - - [22/Apr/2018 05:48:24] \"GET / HTTP/1.1\" 200 -\n",
      "127.0.0.1 - - [22/Apr/2018 05:48:28] \"GET /index/ HTTP/1.1\" 200 -\n",
      "127.0.0.1 - - [22/Apr/2018 05:48:35] \"POST /result HTTP/1.1\" 200 -\n"
     ]
    }
   ],
   "source": [
    "from flask import Flask, render_template, request, send_from_directory\n",
    "app = Flask(__name__)\n",
    "\n",
    "def get_generated_title(gen_title):\n",
    "    gen_title=\"\"\n",
    "    gen_title=\"I am the generated title\"\n",
    "    return(gen_title)\n",
    "\n",
    "def get_cosine_similarity(cosine):\n",
    "    cosine=\"\"\n",
    "    cosine='50.89%'\n",
    "    return(cosine)\n",
    "\n",
    "@app.route('/')\n",
    "def landing_page():\n",
    "    return ('Welcome!!!!')\n",
    "\n",
    "@app.route('/index/')\n",
    "def index_page():\n",
    "    return render_template('index.html')\n",
    "\n",
    "@app.route('/result',methods = ['POST', 'GET'])\n",
    "def result_page():\n",
    "    cosine=\"\"\n",
    "    gen_title=\"\"\n",
    "    if request.method == 'POST':\n",
    "        result = request.form\n",
    "        #cosine='99%'\n",
    "        cosine = get_cosine_similarity(cosine)\n",
    "        gen_title = get_generated_title(gen_title)\n",
    "        return render_template(\"result.html\",result = result, cosine=cosine, gen_title = gen_title)\n",
    "\n",
    "\n",
    "if __name__ == '__main__':\n",
    "    app.run()"
   ]
  },
  {
   "cell_type": "code",
   "execution_count": null,
   "metadata": {
    "collapsed": true
   },
   "outputs": [],
   "source": []
  },
  {
   "cell_type": "code",
   "execution_count": null,
   "metadata": {
    "collapsed": true
   },
   "outputs": [],
   "source": []
  }
 ],
 "metadata": {
  "kernelspec": {
   "display_name": "Python 3",
   "language": "python",
   "name": "python3"
  },
  "language_info": {
   "codemirror_mode": {
    "name": "ipython",
    "version": 3
   },
   "file_extension": ".py",
   "mimetype": "text/x-python",
   "name": "python",
   "nbconvert_exporter": "python",
   "pygments_lexer": "ipython3",
   "version": "3.6.3"
  }
 },
 "nbformat": 4,
 "nbformat_minor": 2
}

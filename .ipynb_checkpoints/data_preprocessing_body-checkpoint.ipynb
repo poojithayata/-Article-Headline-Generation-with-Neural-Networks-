{
 "cells": [
  {
   "cell_type": "code",
   "execution_count": 1,
   "metadata": {},
   "outputs": [
    {
     "name": "stderr",
     "output_type": "stream",
     "text": [
      "C:\\Users\\Naini\\Anaconda3\\lib\\site-packages\\gensim\\utils.py:1197: UserWarning: detected Windows; aliasing chunkize to chunkize_serial\n",
      "  warnings.warn(\"detected Windows; aliasing chunkize to chunkize_serial\")\n"
     ]
    }
   ],
   "source": [
    "import csv\n",
    "import os\n",
    "from collections import defaultdict\n",
    "import pandas as pd\n",
    "from nltk.corpus import stopwords\n",
    "from textblob import TextBlob, Word\n",
    "from gensim.scripts.glove2word2vec import glove2word2vec\n",
    "from nltk.stem import PorterStemmer\n",
    "from sklearn.feature_extraction.text import TfidfVectorizer\n",
    "from sklearn.feature_extraction.text import CountVectorizer\n",
    "from gensim.models import KeyedVectors # load the Stanford GloVe model\n",
    "#nltk.download()"
   ]
  },
  {
   "cell_type": "code",
   "execution_count": 2,
   "metadata": {
    "collapsed": true
   },
   "outputs": [],
   "source": [
    "os.getcwd()\n",
    "os.chdir(\"C:\\\\Users\\\\Naini\\\\final-project\\\\News-Headline-Generation\\\\data\")"
   ]
  },
  {
   "cell_type": "markdown",
   "metadata": {},
   "source": [
    "### 1. Basic Feature Extraction"
   ]
  },
  {
   "cell_type": "code",
   "execution_count": 3,
   "metadata": {
    "collapsed": true
   },
   "outputs": [],
   "source": [
    "#reading csv\n",
    "train = pd.read_csv('output.csv', encoding='ISO-8859-1',low_memory=False)"
   ]
  },
  {
   "cell_type": "code",
   "execution_count": 4,
   "metadata": {},
   "outputs": [
    {
     "data": {
      "text/plain": [
       "0         WASHINGTON  Ã¢ÂÂ   Congressional Republicans...\n",
       "1         After the bullet shells get counted, the blood...\n",
       "2         When Walt DisneyÃ¢ÂÂs Ã¢ÂÂBambiÃ¢ÂÂ open...\n",
       "3         Death may be the great equalizer, but it isnÃ¢...\n",
       "4         SEOUL, South Korea  Ã¢ÂÂ   North KoreaÃ¢ÂÂ...\n",
       "5         LONDON  Ã¢ÂÂ   Queen Elizabeth II, who has b...\n",
       "6         BEIJING  Ã¢ÂÂ   President Tsai   of Taiwan s...\n",
       "7         Danny Cahill stood, slightly dazed, in a blizz...\n",
       "8         Just how   is Hillary Kerr, the    founder of ...\n",
       "9         Angels are everywhere in the MuÃÂ±iz familyÃ¢...\n",
       "10        With Donald J. Trump about to take control of ...\n",
       "11        THOMPSONS, Tex.  Ã¢ÂÂ   Can one of the most ...\n",
       "12        WEST PALM BEACH, Fla.  Ã¢ÂÂ   When   Donald ...\n",
       "13        This article is part of a series aimed at help...\n",
       "14        ItÃ¢ÂÂs the season for family travel and pho...\n",
       "15        Finally. The Second Avenue subway opened in Ne...\n",
       "16          pages into the   journal found in Dylann S. ...\n",
       "17        MUMBAI, India  Ã¢ÂÂ   It was a bold and risk...\n",
       "18        BAGHDAD  Ã¢ÂÂ   A suicide bomber detonated a...\n",
       "19        SYDNEY, Australia  Ã¢ÂÂ   The annual beach p...\n",
       "20        When the Green Bay Packers lost to the Washing...\n",
       "21        Mariah Carey suffered through a performance tr...\n",
       "22        PARIS  Ã¢ÂÂ   When the Islamic State was abo...\n",
       "23        Pop music and fashion never met cuter than in ...\n",
       "24        WASHINGTON  Ã¢ÂÂ   The most powerful and amb...\n",
       "25        WASHINGTON  Ã¢ÂÂ   ItÃ¢ÂÂs   or   time for...\n",
       "26        Good morning.  HereÃ¢ÂÂs what you need to kn...\n",
       "27        The body of the Iraqi prisoner was found naked...\n",
       "28        ISTANBUL  Ã¢ÂÂ   The Islamic State on Monday...\n",
       "29        WASHINGTON  Ã¢ÂÂ   President ObamaÃ¢ÂÂs ad...\n",
       "                                ...                        \n",
       "142540         Our greatest fear for 2017 and the Trump ...\n",
       "142541     A   will take effect across much of Syria fro...\n",
       "142542         There is an old saying in politics: The m...\n",
       "142543         The truck attack on a Christmas market in...\n",
       "142544         Frigid air will grip an unusually large p...\n",
       "142545         A backlash to globalization appears to be...\n",
       "142546         For decades, the data on median household...\n",
       "142547       Far Side cartoons, Ansel Adams landscapes, ...\n",
       "142548         Somewhere between Texas and Alabama, some...\n",
       "142549      MOSCOW  Ã¢ÂÂ   On a day when everyone expe...\n",
       "142550           Donald Trump on Friday expressed his ap...\n",
       "142551         Maria Zakharova, a spokeswoman for the Ru...\n",
       "142552         With just one day to go before he leaves ...\n",
       "142553     Indiana lawmakers originally promoted the sta...\n",
       "142554           PHOENIX, Ariz.  Ã¢ÂÂ   This was suppo...\n",
       "142555          The year started ominously, with a big f...\n",
       "142556           Donald Trump, having dismissed as Ã¢ÂÂ...\n",
       "142557         President ObamaÃ¢ÂÂs decision to abstai...\n",
       "142558      CHARLOTTESVILLE   I came here during the hol...\n",
       "142559         Torn between impatience for 2016 to be ov...\n",
       "142560       Naureen Shah is director of security and hu...\n",
       "142561     ALTHOUGH PRESIDENT ObamaÃ¢ÂÂs sanctions aga...\n",
       "142562      BRUSSELS  Ã¢ÂÂ   British Prime Minister Th...\n",
       "142563       BEIJING  Ã¢ÂÂ   China promised Friday to ...\n",
       "142564         The decision was not an easy one, wrote J...\n",
       "142565             Uber driver Keith Avila picked up a p...\n",
       "142566             Crews on Friday continued to search L...\n",
       "142567         When the Obama administration announced a...\n",
       "142568         This story has been updated. A new law in...\n",
       "142569         The nationÃ¢ÂÂs first recreational mari...\n",
       "Name: content, Length: 142570, dtype: object"
      ]
     },
     "execution_count": 4,
     "metadata": {},
     "output_type": "execute_result"
    }
   ],
   "source": [
    "train = train['content']\n",
    "train"
   ]
  },
  {
   "cell_type": "code",
   "execution_count": 6,
   "metadata": {},
   "outputs": [
    {
     "data": {
      "text/plain": [
       "0         WASHINGTON  Ã¢ÂÂ   Congressional Republicans...\n",
       "1         After the bullet shells get counted, the blood...\n",
       "2         When Walt DisneyÃ¢ÂÂs Ã¢ÂÂBambiÃ¢ÂÂ open...\n",
       "3         Death may be the great equalizer, but it isnÃ¢...\n",
       "4         SEOUL, South Korea  Ã¢ÂÂ   North KoreaÃ¢ÂÂ...\n",
       "5         LONDON  Ã¢ÂÂ   Queen Elizabeth II, who has b...\n",
       "6         BEIJING  Ã¢ÂÂ   President Tsai   of Taiwan s...\n",
       "7         Danny Cahill stood, slightly dazed, in a blizz...\n",
       "8         Just how   is Hillary Kerr, the    founder of ...\n",
       "9         Angels are everywhere in the MuÃÂ±iz familyÃ¢...\n",
       "10        With Donald J. Trump about to take control of ...\n",
       "11        THOMPSONS, Tex.  Ã¢ÂÂ   Can one of the most ...\n",
       "12        WEST PALM BEACH, Fla.  Ã¢ÂÂ   When   Donald ...\n",
       "13        This article is part of a series aimed at help...\n",
       "14        ItÃ¢ÂÂs the season for family travel and pho...\n",
       "15        Finally. The Second Avenue subway opened in Ne...\n",
       "16          pages into the   journal found in Dylann S. ...\n",
       "17        MUMBAI, India  Ã¢ÂÂ   It was a bold and risk...\n",
       "18        BAGHDAD  Ã¢ÂÂ   A suicide bomber detonated a...\n",
       "19        SYDNEY, Australia  Ã¢ÂÂ   The annual beach p...\n",
       "20        When the Green Bay Packers lost to the Washing...\n",
       "21        Mariah Carey suffered through a performance tr...\n",
       "22        PARIS  Ã¢ÂÂ   When the Islamic State was abo...\n",
       "23        Pop music and fashion never met cuter than in ...\n",
       "24        WASHINGTON  Ã¢ÂÂ   The most powerful and amb...\n",
       "25        WASHINGTON  Ã¢ÂÂ   ItÃ¢ÂÂs   or   time for...\n",
       "26        Good morning.  HereÃ¢ÂÂs what you need to kn...\n",
       "27        The body of the Iraqi prisoner was found naked...\n",
       "28        ISTANBUL  Ã¢ÂÂ   The Islamic State on Monday...\n",
       "29        WASHINGTON  Ã¢ÂÂ   President ObamaÃ¢ÂÂs ad...\n",
       "                                ...                        \n",
       "142540         Our greatest fear for 2017 and the Trump ...\n",
       "142541     A   will take effect across much of Syria fro...\n",
       "142542         There is an old saying in politics: The m...\n",
       "142543         The truck attack on a Christmas market in...\n",
       "142544         Frigid air will grip an unusually large p...\n",
       "142545         A backlash to globalization appears to be...\n",
       "142546         For decades, the data on median household...\n",
       "142547       Far Side cartoons, Ansel Adams landscapes, ...\n",
       "142548         Somewhere between Texas and Alabama, some...\n",
       "142549      MOSCOW  Ã¢ÂÂ   On a day when everyone expe...\n",
       "142550           Donald Trump on Friday expressed his ap...\n",
       "142551         Maria Zakharova, a spokeswoman for the Ru...\n",
       "142552         With just one day to go before he leaves ...\n",
       "142553     Indiana lawmakers originally promoted the sta...\n",
       "142554           PHOENIX, Ariz.  Ã¢ÂÂ   This was suppo...\n",
       "142555          The year started ominously, with a big f...\n",
       "142556           Donald Trump, having dismissed as Ã¢ÂÂ...\n",
       "142557         President ObamaÃ¢ÂÂs decision to abstai...\n",
       "142558      CHARLOTTESVILLE   I came here during the hol...\n",
       "142559         Torn between impatience for 2016 to be ov...\n",
       "142560       Naureen Shah is director of security and hu...\n",
       "142561     ALTHOUGH PRESIDENT ObamaÃ¢ÂÂs sanctions aga...\n",
       "142562      BRUSSELS  Ã¢ÂÂ   British Prime Minister Th...\n",
       "142563       BEIJING  Ã¢ÂÂ   China promised Friday to ...\n",
       "142564         The decision was not an easy one, wrote J...\n",
       "142565             Uber driver Keith Avila picked up a p...\n",
       "142566             Crews on Friday continued to search L...\n",
       "142567         When the Obama administration announced a...\n",
       "142568         This story has been updated. A new law in...\n",
       "142569         The nationÃ¢ÂÂs first recreational mari...\n",
       "Name: content, Length: 142570, dtype: object"
      ]
     },
     "execution_count": 6,
     "metadata": {},
     "output_type": "execute_result"
    }
   ],
   "source": [
    "train = train[train.notnull()]\n",
    "train"
   ]
  },
  {
   "cell_type": "code",
   "execution_count": null,
   "metadata": {
    "collapsed": true
   },
   "outputs": [],
   "source": [
    "#Number of stopwords\n",
    "#stop = stopwords.words('english')"
   ]
  },
  {
   "cell_type": "code",
   "execution_count": null,
   "metadata": {
    "collapsed": true
   },
   "outputs": [],
   "source": [
    "#train['stopwords'] = train['content'].apply(lambda x: len([x for x in x.split() if x in stop]))\n",
    "#train[['content','stopwords']].head()"
   ]
  },
  {
   "cell_type": "markdown",
   "metadata": {},
   "source": [
    "### 2. Basic Pre-processing"
   ]
  },
  {
   "cell_type": "code",
   "execution_count": null,
   "metadata": {},
   "outputs": [],
   "source": [
    "#transform data into lower case\n",
    "train = train.apply(lambda x: \" \".join(x.lower() for x in x.split()))\n",
    "train.head()"
   ]
  },
  {
   "cell_type": "code",
   "execution_count": 7,
   "metadata": {},
   "outputs": [
    {
     "data": {
      "text/plain": [
       "0         WASHINGTON  ÃÂÂ   Congressional Republicans ha...\n",
       "1         After the bullet shells get counted the blood ...\n",
       "2         When Walt DisneyÃÂÂs ÃÂÂBambiÃÂÂ opened in 194...\n",
       "3         Death may be the great equalizer but it isnÃÂÂ...\n",
       "4         SEOUL South Korea  ÃÂÂ   North KoreaÃÂÂs leade...\n",
       "5         LONDON  ÃÂÂ   Queen Elizabeth II who has been ...\n",
       "6         BEIJING  ÃÂÂ   President Tsai   of Taiwan shar...\n",
       "7         Danny Cahill stood slightly dazed in a blizzar...\n",
       "8         Just how   is Hillary Kerr the    founder of a...\n",
       "9         Angels are everywhere in the MuÃÂiz familyÃÂÂs...\n",
       "10        With Donald J Trump about to take control of t...\n",
       "11        THOMPSONS Tex  ÃÂÂ   Can one of the most promi...\n",
       "12        WEST PALM BEACH Fla  ÃÂÂ   When   Donald J Tru...\n",
       "13        This article is part of a series aimed at help...\n",
       "14        ItÃÂÂs the season for family travel and photos...\n",
       "15        Finally The Second Avenue subway opened in New...\n",
       "16          pages into the   journal found in Dylann S R...\n",
       "17        MUMBAI India  ÃÂÂ   It was a bold and risky ga...\n",
       "18        BAGHDAD  ÃÂÂ   A suicide bomber detonated a pi...\n",
       "19        SYDNEY Australia  ÃÂÂ   The annual beach pilgr...\n",
       "20        When the Green Bay Packers lost to the Washing...\n",
       "21        Mariah Carey suffered through a performance tr...\n",
       "22        PARIS  ÃÂÂ   When the Islamic State was about ...\n",
       "23        Pop music and fashion never met cuter than in ...\n",
       "24        WASHINGTON  ÃÂÂ   The most powerful and ambiti...\n",
       "25        WASHINGTON  ÃÂÂ   ItÃÂÂs   or   time for Repub...\n",
       "26        Good morning  HereÃÂÂs what you need to know Ã...\n",
       "27        The body of the Iraqi prisoner was found naked...\n",
       "28        ISTANBUL  ÃÂÂ   The Islamic State on Monday is...\n",
       "29        WASHINGTON  ÃÂÂ   President ObamaÃÂÂs advisers...\n",
       "                                ...                        \n",
       "142540         Our greatest fear for 2017 and the Trump ...\n",
       "142541     A   will take effect across much of Syria fro...\n",
       "142542         There is an old saying in politics The mo...\n",
       "142543         The truck attack on a Christmas market in...\n",
       "142544         Frigid air will grip an unusually large p...\n",
       "142545         A backlash to globalization appears to be...\n",
       "142546         For decades the data on median household ...\n",
       "142547       Far Side cartoons Ansel Adams landscapes un...\n",
       "142548         Somewhere between Texas and Alabama somet...\n",
       "142549      MOSCOW  ÃÂÂ   On a day when everyone expecte...\n",
       "142550           Donald Trump on Friday expressed his ap...\n",
       "142551         Maria Zakharova a spokeswoman for the Rus...\n",
       "142552         With just one day to go before he leaves ...\n",
       "142553     Indiana lawmakers originally promoted the sta...\n",
       "142554           PHOENIX Ariz  ÃÂÂ   This was supposed t...\n",
       "142555          The year started ominously with a big fi...\n",
       "142556           Donald Trump having dismissed as ÃÂÂrid...\n",
       "142557         President ObamaÃÂÂs decision to abstain a...\n",
       "142558      CHARLOTTESVILLE   I came here during the hol...\n",
       "142559         Torn between impatience for 2016 to be ov...\n",
       "142560       Naureen Shah is director of security and hu...\n",
       "142561     ALTHOUGH PRESIDENT ObamaÃÂÂs sanctions agains...\n",
       "142562      BRUSSELS  ÃÂÂ   British Prime Minister There...\n",
       "142563       BEIJING  ÃÂÂ   China promised Friday to hal...\n",
       "142564         The decision was not an easy one wrote Ja...\n",
       "142565             Uber driver Keith Avila picked up a p...\n",
       "142566             Crews on Friday continued to search L...\n",
       "142567         When the Obama administration announced a...\n",
       "142568         This story has been updated A new law in ...\n",
       "142569         The nationÃÂÂs first recreational marijua...\n",
       "Name: content, Length: 142570, dtype: object"
      ]
     },
     "execution_count": 7,
     "metadata": {},
     "output_type": "execute_result"
    }
   ],
   "source": [
    "#Removing Punctuation\n",
    "train = train.str.replace('[^\\w\\s]','')\n",
    "train"
   ]
  },
  {
   "cell_type": "code",
   "execution_count": 8,
   "metadata": {
    "collapsed": true
   },
   "outputs": [],
   "source": [
    "train.to_csv('output_cleaned_body.csv', index=False)"
   ]
  },
  {
   "cell_type": "code",
   "execution_count": null,
   "metadata": {
    "collapsed": true
   },
   "outputs": [],
   "source": [
    "#Removal of Stop Words\n",
    "#train['content'] = train['content'].apply(lambda x: \" \".join(x for x in x.split() if x not in stop))\n",
    "#train['content'].head()"
   ]
  },
  {
   "cell_type": "code",
   "execution_count": null,
   "metadata": {
    "collapsed": true
   },
   "outputs": [],
   "source": [
    "#Common word removal\n",
    "#freq = pd.Series(' '.join(train['content']).split()).value_counts()[:10]\n",
    "#freq"
   ]
  },
  {
   "cell_type": "code",
   "execution_count": null,
   "metadata": {
    "collapsed": true
   },
   "outputs": [],
   "source": [
    "#freq = list(freq.index)\n",
    "#train['content'] = train['content'].apply(lambda x: \" \".join(x for x in x.split() if x not in freq))\n",
    "#train['content'].head()"
   ]
  },
  {
   "cell_type": "code",
   "execution_count": null,
   "metadata": {
    "collapsed": true
   },
   "outputs": [],
   "source": [
    "#Rare words removal\n",
    "#rare = pd.Series(' '.join(train['content']).split()).value_counts()[-10:]\n",
    "#rare"
   ]
  },
  {
   "cell_type": "code",
   "execution_count": null,
   "metadata": {
    "collapsed": true
   },
   "outputs": [],
   "source": [
    "#rare = list(rare.index)\n",
    "#train['content'] = train['content'].apply(lambda x: \" \".join(x for x in x.split() if x not in rare))\n",
    "#train['content'].head()"
   ]
  },
  {
   "cell_type": "code",
   "execution_count": null,
   "metadata": {
    "collapsed": true
   },
   "outputs": [],
   "source": [
    "#Tokenization - dividing the text into a sequence of words or sentences\n",
    "#we have used the textblob library to first transform our data into a blob and then converted them into a series of words\n",
    "tokenized_words=[]\n",
    "#for i,x in enumerate(train['content']):\n",
    "    #if(len(x) > 1 ):\n",
    "       #tokenized_words = TextBlob(x).words"
   ]
  },
  {
   "cell_type": "code",
   "execution_count": null,
   "metadata": {
    "collapsed": true
   },
   "outputs": [],
   "source": [
    "#Stemming -  removal of suffices, like “ing”, “ly”, “s”\n",
    "#st = PorterStemmer()\n",
    "#train['content'].apply(lambda x: \" \".join([st.stem(word) for word in x.split()]))"
   ]
  },
  {
   "cell_type": "code",
   "execution_count": null,
   "metadata": {
    "collapsed": true
   },
   "outputs": [],
   "source": [
    "#Lemmatization - it converts the word into its root word\n",
    "#train['content'] = train['content'].apply(lambda x: \" \".join([Word(word).lemmatize() for word in x.split()]))\n",
    "#train['content'].head()"
   ]
  },
  {
   "cell_type": "markdown",
   "metadata": {},
   "source": [
    "### 3. Advance Text Processing\n",
    " "
   ]
  },
  {
   "cell_type": "code",
   "execution_count": null,
   "metadata": {
    "collapsed": true
   },
   "outputs": [],
   "source": [
    "#N-grams - combination of multiple words used together.\n",
    "#j=[]\n",
    "#for i,x in enumerate(train['content']):\n",
    "    #j = TextBlob(x).ngrams(2)\n",
    "\n",
    "\n"
   ]
  },
  {
   "cell_type": "code",
   "execution_count": null,
   "metadata": {
    "collapsed": true
   },
   "outputs": [],
   "source": [
    "# Term frequency - ratio of the count of a word present in a sentence, to the length of the sentence\n",
    "#tf1 = (train['content']).apply(lambda x: pd.value_counts(x.split(\" \"))).sum(axis = 0).reset_index()\n",
    "#tf1.columns = ['words','tf']\n",
    "#tf1"
   ]
  },
  {
   "cell_type": "code",
   "execution_count": null,
   "metadata": {
    "collapsed": true
   },
   "outputs": [],
   "source": [
    "#Inverse Document Frequency - log of the ratio of the total number of rows to the number of rows in which that word is present\n",
    "#import numpy as np\n",
    "#for i,word in enumerate(tf1['words']):\n",
    "  #tf1.loc[i, 'idf'] = np.log(train.shape[0]/(len(train[train['content'].str.contains(word)])))\n",
    "\n",
    "#tf1"
   ]
  },
  {
   "cell_type": "code",
   "execution_count": null,
   "metadata": {
    "collapsed": true
   },
   "outputs": [],
   "source": [
    "#Term Frequency – Inverse Document Frequency (TF-IDF) - multiplication of the TF and IDF \n",
    "#tf1['tfidf'] = tf1['tf'] * tf1['idf']\n",
    "#tf1\n"
   ]
  },
  {
   "cell_type": "code",
   "execution_count": null,
   "metadata": {
    "collapsed": true
   },
   "outputs": [],
   "source": [
    "#tfidf = TfidfVectorizer(max_features=1000, lowercase=True, analyzer='word',\n",
    "#stop_words= 'english',ngram_range=(1,1))\n",
    "#train_vect = tfidf.fit_transform(train['content'])\n",
    "\n",
    "#train_vect\n"
   ]
  },
  {
   "cell_type": "code",
   "execution_count": null,
   "metadata": {
    "collapsed": true
   },
   "outputs": [],
   "source": [
    "#Bag of Words - representation of text which describes the presence of words within the text data\n",
    "#bow = CountVectorizer(max_features=1000, lowercase=True, ngram_range=(1,1),analyzer = \"word\")\n",
    "#train_bow = bow.fit_transform(train['content'])\n",
    "#train_bow\n"
   ]
  },
  {
   "cell_type": "code",
   "execution_count": null,
   "metadata": {
    "collapsed": true
   },
   "outputs": [],
   "source": [
    "# Word Embeddings\n",
    "#glove_input_file = 'glove.6B.100d.txt'\n",
    "#word2vec_output_file = 'glove.6B.100d.txt.word2vec'\n",
    "# convert it into the word2vec format\n",
    "#glove2word2vec(glove_input_file, word2vec_output_file)"
   ]
  },
  {
   "cell_type": "code",
   "execution_count": null,
   "metadata": {
    "collapsed": true
   },
   "outputs": [],
   "source": [
    "#load the above word2vec file as a model\n",
    "#filename = 'glove.6B.100d.txt.word2vec'\n",
    "#model = KeyedVectors.load_word2vec_format(filename, binary=False)"
   ]
  },
  {
   "cell_type": "code",
   "execution_count": null,
   "metadata": {
    "collapsed": true
   },
   "outputs": [],
   "source": [
    "# take the average to represent the string ‘go away’ in the form of vectors having 100 dimensions\n",
    "#(model['music'] + model['family'])/2"
   ]
  },
  {
   "cell_type": "code",
   "execution_count": null,
   "metadata": {
    "collapsed": true
   },
   "outputs": [],
   "source": []
  },
  {
   "cell_type": "code",
   "execution_count": null,
   "metadata": {
    "collapsed": true
   },
   "outputs": [],
   "source": []
  },
  {
   "cell_type": "code",
   "execution_count": null,
   "metadata": {
    "collapsed": true
   },
   "outputs": [],
   "source": []
  }
 ],
 "metadata": {
  "kernelspec": {
   "display_name": "Python 3",
   "language": "python",
   "name": "python3"
  },
  "language_info": {
   "codemirror_mode": {
    "name": "ipython",
    "version": 3
   },
   "file_extension": ".py",
   "mimetype": "text/x-python",
   "name": "python",
   "nbconvert_exporter": "python",
   "pygments_lexer": "ipython3",
   "version": "3.6.3"
  }
 },
 "nbformat": 4,
 "nbformat_minor": 2
}
